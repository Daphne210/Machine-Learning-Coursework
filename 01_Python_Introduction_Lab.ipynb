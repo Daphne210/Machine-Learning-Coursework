{
 "cells": [
  {
   "cell_type": "markdown",
   "id": "03c4ee7c-8b1c-4ff8-9638-6e45f4802bb5",
   "metadata": {},
   "source": [
    "### Introduction to Python\n",
    "#### Date: Sep 06,2023\n",
    "#### Submission must be made through Github\n",
    "You are required to complete all tasks correctly (or almost correctly) . You are free to use any material (lecture, Stackoverflow etc.) except full solutions but you should first try to figure them out on your own. We use an nbgrader for partially autograding the assignments. Please DO NOT delete or copy cells. You can add new cells but your solutions should go into the designated cells. "
   ]
  },
  {
   "cell_type": "markdown",
   "id": "79ceb440-0a4a-4cfe-92a8-d8d2d410e1e1",
   "metadata": {},
   "source": [
    "`range()` practice"
   ]
  },
  {
   "cell_type": "markdown",
   "id": "a56105d9-2e08-49de-bf42-4ed89f531dca",
   "metadata": {},
   "source": [
    "1 . Print the numbers between 60 and 69 inclusive."
   ]
  },
  {
   "cell_type": "code",
   "execution_count": 2,
   "id": "2cb9e9ed",
   "metadata": {},
   "outputs": [],
   "source": [
    "import numpy as np"
   ]
  },
  {
   "cell_type": "code",
   "execution_count": 1,
   "id": "9672a3e9-7f15-4956-b6e4-669b03a88cc0",
   "metadata": {},
   "outputs": [
    {
     "name": "stdout",
     "output_type": "stream",
     "text": [
      "[60, 61, 62, 63, 64, 65, 66, 67, 68, 69]\n"
     ]
    }
   ],
   "source": [
    "# YOUR CODE HERE\n",
    "numbers = list(range(60,70))\n",
    "print(numbers)\n",
    "# raise NotImplementedError()"
   ]
  },
  {
   "cell_type": "markdown",
   "id": "b74e0b6f-b2e2-4b93-a13f-73a3304171d4",
   "metadata": {},
   "source": [
    "2 . Read numbers until 0 and print their mean and standard deviation without using a list."
   ]
  },
  {
   "cell_type": "code",
   "execution_count": 14,
   "id": "57c6caad-8250-4346-ada9-418b1fb7e5c8",
   "metadata": {},
   "outputs": [
    {
     "name": "stdout",
     "output_type": "stream",
     "text": [
      "Enter a number: 2\n",
      "Enter a number: 6\n",
      "Enter a number: 3\n",
      "Enter a number: 0\n",
      "\n",
      "The Mean is: 3.6666666666666665\n",
      "\n",
      "The Standard Deviation is : 2.0816659994661326\n"
     ]
    }
   ],
   "source": [
    "# YOUR CODE HERE\n",
    "import math\n",
    "\n",
    "total = 0\n",
    "sum_of_squares = 0\n",
    "count = 0\n",
    "\n",
    "while True:\n",
    "    number = float(input(\"Enter a number: \"))\n",
    "    if number == 0:\n",
    "        break\n",
    "    total += number\n",
    "    sum_of_squares += number ** 2\n",
    "    count += 1\n",
    "\n",
    "mean = total / count if count > 0 else 0\n",
    "\n",
    "if count > 1:\n",
    "    std_deviation = math.sqrt((sum_of_squares - (total ** 2 / count)) / (count - 1))\n",
    "else:\n",
    "    std_deviation = 0\n",
    "\n",
    "print(\"\\n\" + \"The Mean is: \" + str(mean) + \"\\n\")\n",
    "print(\"The Standard Deviation is : \" + str(std_deviation))\n",
    "# raise NotImplementedError()"
   ]
  },
  {
   "cell_type": "markdown",
   "id": "43d383f5-1f59-47fd-99a5-938bf2c2e937",
   "metadata": {},
   "source": [
    "##### Lists\n",
    "3 . Print the odd numbers from this list. `l = [2, 3, -2, -7, 0, 2, 3]`"
   ]
  },
  {
   "cell_type": "code",
   "execution_count": 3,
   "id": "8423d0f0-c4a6-4ac0-9100-523c8e8b9dff",
   "metadata": {},
   "outputs": [
    {
     "name": "stdout",
     "output_type": "stream",
     "text": [
      "3\n",
      "-7\n",
      "3\n"
     ]
    }
   ],
   "source": [
    "# YOUR CODE HERE\n",
    "l = [2, 3, -2, -7, 0, 2, 3]\n",
    "for x in l:\n",
    "    if x %2 != 0:\n",
    "        result = x\n",
    "        print(result)\n",
    "# raise NotImplementedError()"
   ]
  },
  {
   "cell_type": "markdown",
   "id": "ba8c7678-f149-46fd-a59c-1740c6b31662",
   "metadata": {},
   "source": [
    "##### Functions\n",
    "4 . Write a function that takes an integer parameter `(N)` and returns a list of the first `N` prime numbers starting from 2."
   ]
  },
  {
   "cell_type": "code",
   "execution_count": 47,
   "id": "c11489ad-16c8-458e-bb07-6269fdc0ac67",
   "metadata": {},
   "outputs": [],
   "source": [
    "# YOUR CODE HERE\n",
    "def is_prime(n):\n",
    "    if n > 1:\n",
    "        for i in range(2,n):\n",
    "            if(n%i==0):\n",
    "                return False\n",
    "        return True\n",
    "\n",
    "def get_n_primes(N):\n",
    "    prime_numbers = []\n",
    "    num = 2\n",
    "    while len(prime_numbers) < N:\n",
    "        if is_prime(num):\n",
    "            prime_numbers.append(num)\n",
    "        num += 1\n",
    "    return prime_numbers\n",
    "# raise NotImplementedError()"
   ]
  },
  {
   "cell_type": "code",
   "execution_count": 48,
   "id": "2ff55b77",
   "metadata": {},
   "outputs": [
    {
     "data": {
      "text/plain": [
       "[2, 3, 5, 7, 11]"
      ]
     },
     "execution_count": 48,
     "metadata": {},
     "output_type": "execute_result"
    }
   ],
   "source": [
    "get_n_primes(5)"
   ]
  },
  {
   "cell_type": "code",
   "execution_count": 49,
   "id": "0349ebb9-189e-437b-a3f0-8ed95de70b67",
   "metadata": {},
   "outputs": [],
   "source": [
    "assert(get_n_primes(3) == [2, 3, 5])\n",
    "assert(get_n_primes(0) == [])"
   ]
  },
  {
   "cell_type": "markdown",
   "id": "faa7415c-d5d9-4248-95d2-588b6919c59c",
   "metadata": {},
   "source": [
    "5. Write a function that takes an integer parameter (N) and returns the Nth Fibonacci number.\n",
    "\n",
    " The Fibonacci series is defined as:\n",
    "\n",
    "$$\n",
    "F_n = F_{n-1} + F_{n-2} \\text{ for } n>1\\\\\n",
    "F_0 = 0\\\\\n",
    "F_1 = 1\n",
    "$$\n",
    "\n",
    "The first few elements of the Fibonacci series are 0, 1, 1, 2, 3, 5, 8, 13 etc.\n",
    "\n",
    "Raise a `ValueError` if $N<0$.\n"
   ]
  },
  {
   "cell_type": "code",
   "execution_count": 7,
   "id": "2cdba1a3-855c-483f-a5b0-eba31d98c186",
   "metadata": {},
   "outputs": [],
   "source": [
    "# YOUR CODE HERE\n",
    "def get_nth_fibonacci(N):\n",
    "    if N < 0:\n",
    "        raise ValueError ('Enter a positive number')\n",
    "    elif N == 0:\n",
    "        return 0\n",
    "    elif N == 1:\n",
    "        return 1\n",
    "    else:\n",
    "        return get_nth_fibonacci(N-1)+get_nth_fibonacci(N-2)\n",
    "\n",
    "# raise NotImplementedError()"
   ]
  },
  {
   "cell_type": "code",
   "execution_count": 11,
   "id": "dae731bf",
   "metadata": {},
   "outputs": [
    {
     "name": "stdout",
     "output_type": "stream",
     "text": [
      "13\n"
     ]
    }
   ],
   "source": [
    "print(get_nth_fibonacci(7))"
   ]
  },
  {
   "cell_type": "code",
   "execution_count": 9,
   "id": "d6b671a5-1c06-4f25-889e-599d5dedc9ae",
   "metadata": {},
   "outputs": [],
   "source": [
    "assert(get_nth_fibonacci(0) == 0)\n",
    "assert(get_nth_fibonacci(1) == 1)\n",
    "assert(get_nth_fibonacci(2) == 1)\n",
    "assert(get_nth_fibonacci(5) == 5)\n",
    "assert(get_nth_fibonacci(7) == 13)\n",
    "\n",
    "try:\n",
    "    get_nth_fibonacci(-2)\n",
    "except ValueError:\n",
    "    pass\n",
    "else:\n",
    "    AssertionError(\"TEST FAILS. Negative index should raise a ValueError.\")"
   ]
  },
  {
   "cell_type": "markdown",
   "id": "fc2960b4-e2b4-4e98-9284-9acb6e682182",
   "metadata": {},
   "source": [
    "6 . Create a function that take a list and a predicate (function with boolean return value) as parameters and returns a new list of those elements which the predicate return True. A predicate is a function that takes one element and return `True` or `False`, for example `is_even`, `is_prime`. If you implemented The following tests should run.\n"
   ]
  },
  {
   "cell_type": "code",
   "execution_count": 16,
   "id": "a5bbd70f-1ba6-4a46-8b14-bc8b82da1a18",
   "metadata": {},
   "outputs": [],
   "source": [
    "# YOUR CODE HERE\n",
    "def is_odd(N):\n",
    "    return N %2 != 0\n",
    "\n",
    "def is_prime(N):\n",
    "    if(N==1 or N==0):\n",
    "            return False\n",
    "        \n",
    "    for i in range(2,N):\n",
    "        if(N%i==0):\n",
    "            return False\n",
    "    return True\n",
    "\n",
    "def filter_list(listx, predicate):\n",
    "    filtered_list = []\n",
    "    for i in listx:\n",
    "        if predicate(i):\n",
    "            filtered_list.append(i)\n",
    "    return filtered_list\n",
    "# raise NotImplementedError()"
   ]
  },
  {
   "cell_type": "code",
   "execution_count": 17,
   "id": "b600a81d",
   "metadata": {},
   "outputs": [
    {
     "data": {
      "text/plain": [
       "[1, 3, 19, 35, 11]"
      ]
     },
     "execution_count": 17,
     "metadata": {},
     "output_type": "execute_result"
    }
   ],
   "source": [
    "l1 = [1, 2, 3, 4, 19, 35, 11]\n",
    "filter_list(l1, is_odd)"
   ]
  },
  {
   "cell_type": "code",
   "execution_count": 18,
   "id": "aa1da626",
   "metadata": {},
   "outputs": [
    {
     "data": {
      "text/plain": [
       "[2, 3, 19, 11]"
      ]
     },
     "execution_count": 18,
     "metadata": {},
     "output_type": "execute_result"
    }
   ],
   "source": [
    "filter_list(l1, is_prime)"
   ]
  },
  {
   "cell_type": "code",
   "execution_count": 19,
   "id": "19b9110d",
   "metadata": {},
   "outputs": [
    {
     "data": {
      "text/plain": [
       "[]"
      ]
     },
     "execution_count": 19,
     "metadata": {},
     "output_type": "execute_result"
    }
   ],
   "source": [
    "l2 = [1, 4, 9, 16, 25]\n",
    "filter_list(l2, is_prime)"
   ]
  },
  {
   "cell_type": "code",
   "execution_count": 20,
   "id": "a2622238-54c7-4561-b6e6-52020207940f",
   "metadata": {},
   "outputs": [],
   "source": [
    "l1 = [1, 2, 3, 4, 19, 35, 11]\n",
    "l2 = [1, 4, 9, 16, 25]\n",
    "assert(filter_list(l1, is_odd) == [1, 3, 19, 35, 11])\n",
    "assert(filter_list(l1, is_prime) == [2, 3, 19, 11])\n",
    "assert(filter_list(l2, is_prime) == [])"
   ]
  },
  {
   "cell_type": "markdown",
   "id": "11b4614e-75b6-4735-bbb3-54899d386014",
   "metadata": {},
   "source": [
    "7.  Reduce is a function that applies a two argument function against an accumulator and each element in the sequence (from left to right) to reduce it to a single value. If no initial value is provided, the accumulator is initialized with the return value of the function run on the first two elements of the sequence.\n",
    "\n",
    "```\n",
    "reduce([1, 2, 3], product) ---> 6\n",
    "reduce([1, 2, 3], product, accumulator=10) ---> 60\n",
    "reduce([\"foo\", \"bar\"], string_addition) ---> \"foobar\"\n",
    "reduce([\"foo\", \"bar\"], string_addition, accumulator=\"hello\") ---> \"hellofoobar\"\n",
    "```"
   ]
  },
  {
   "cell_type": "code",
   "execution_count": 6,
   "id": "b58f176d",
   "metadata": {},
   "outputs": [],
   "source": [
    "import numpy as np"
   ]
  },
  {
   "cell_type": "code",
   "execution_count": 20,
   "id": "8101a46d-4eb0-46ee-951d-ad3a32619d84",
   "metadata": {},
   "outputs": [],
   "source": [
    "# YOUR CODE HERE\n",
    "def reduce(listX, func, accumulator=None):\n",
    "    my_array = listX.copy()\n",
    "    if accumulator is not None:\n",
    "        return func(my_array) + accumulator\n",
    "    else:\n",
    "        return func(my_array)\n",
    "\n",
    "def add(z):\n",
    "    return np.sum(z)\n",
    "\n",
    "def product(x):\n",
    "    return np.product(x)\n",
    "\n",
    "def string_len_add(z):\n",
    "    result = \"\".join(z)\n",
    "    print(result)\n",
    "    return len(result)\n",
    "\n",
    "def longest_string(list_of_strings):\n",
    "    longest = ''\n",
    "    for s in list_of_strings:\n",
    "        if len(s) > len(longest):\n",
    "            longest = s\n",
    "    return longest\n",
    "\n",
    "def count_odd_numbers(z):\n",
    "    count = 0\n",
    "    for i in z:\n",
    "        if i %2 != 0:\n",
    "            count += 1\n",
    "    return count\n",
    "\n",
    "# raise NotImplementedError()"
   ]
  },
  {
   "cell_type": "code",
   "execution_count": 12,
   "id": "06afdae8-d4b5-4a65-85ab-bd469456caed",
   "metadata": {},
   "outputs": [
    {
     "name": "stdout",
     "output_type": "stream",
     "text": [
      "foobarhello\n"
     ]
    }
   ],
   "source": [
    "l1 = [1, 2, -1, 5]\n",
    "l2 = [\"foo\", \"bar\", \"hello\"]\n",
    "\n",
    "assert(reduce(l1, add) == 7)\n",
    "assert(reduce(l1, add, 10) == 17)\n",
    "assert(reduce(l2, string_len_add, 0) == 11)"
   ]
  },
  {
   "cell_type": "markdown",
   "id": "d5057830-6794-4d2d-ac06-02b44b852186",
   "metadata": {},
   "source": [
    "8. Use your reduce function for the following operations:\n",
    "\n",
    "##### a. count the number of odd elements in a list of integers,\n",
    "##### b. find the maximum of a list of integers,\n",
    "##### c. find the longest string in list of strings.\n",
    "\n",
    "``` Test your solutions. ```"
   ]
  },
  {
   "cell_type": "code",
   "execution_count": 41,
   "id": "dbb28576-5abb-4b90-8e9f-c4bfcaffc3b7",
   "metadata": {},
   "outputs": [
    {
     "name": "stdout",
     "output_type": "stream",
     "text": [
      "5\n"
     ]
    }
   ],
   "source": [
    "# YOUR CODE HERE\n",
    "print(reduce(l1, max))\n",
    "# raise NotImplementedError()"
   ]
  },
  {
   "cell_type": "code",
   "execution_count": 46,
   "id": "af799981-375d-4c42-8dc1-83908ed0e8a4",
   "metadata": {},
   "outputs": [
    {
     "name": "stdout",
     "output_type": "stream",
     "text": [
      "hello\n"
     ]
    }
   ],
   "source": [
    "# YOUR CODE HERE\n",
    "print(reduce(l2, longest_string))\n",
    "# raise NotImplementedError()"
   ]
  },
  {
   "cell_type": "code",
   "execution_count": 23,
   "id": "2f0c401b",
   "metadata": {},
   "outputs": [
    {
     "name": "stdout",
     "output_type": "stream",
     "text": [
      "4\n"
     ]
    }
   ],
   "source": [
    "print(reduce(l1, count_odd_numbers, 1))"
   ]
  },
  {
   "cell_type": "markdown",
   "id": "3c077854-065c-4c34-9def-93b57b32e9db",
   "metadata": {},
   "source": [
    "9. Create a function that takes a matrix of size NxM and returns the pairwise L2 distance of each row pair.\n",
    "\n",
    "For input $A^{N \\times M}$, the output should be $D^{N \\times N}$ where: $D_{i,j} = L_2 (A_i, A_j)$"
   ]
  },
  {
   "cell_type": "code",
   "execution_count": 58,
   "id": "b987aeec-458a-4ae7-b203-59334bdb725e",
   "metadata": {},
   "outputs": [],
   "source": [
    "# YOUR CODE HERE\n",
    "def pairwise_row_distance(A):\n",
    "    A = np.array(A, dtype=float)\n",
    "    num_rows = A.shape[0]\n",
    "    D = np.zeros((num_rows, num_rows), dtype=float)\n",
    "    \n",
    "    for i in range(num_rows):\n",
    "        for j in range(num_rows):\n",
    "            D[i][j] = np.sqrt(np.sum((A[i] - A[j]) ** 2))\n",
    "    return D\n",
    "\n",
    "def transpose(A):\n",
    "    return A.T\n",
    "\n",
    "# raise NotImplementedError()"
   ]
  },
  {
   "cell_type": "code",
   "execution_count": 60,
   "id": "a8a40461-7af8-41f7-96f2-729f69c62ab8",
   "metadata": {},
   "outputs": [],
   "source": [
    "D = pairwise_row_distance([[1, 0, 2], [0, 2, 1]])\n",
    "# should be a matrix\n",
    "# assert is_matrix(D) == True\n",
    "assert len(D) == 2\n",
    "assert len(D[0]) == 2\n",
    "assert D[0][0] == 0\n",
    "assert abs(D[0][1] - 2.449489742783178) < 1e-3\n",
    "assert abs(D[1][0] - 2.449489742783178) < 1e-3\n",
    "assert D[1][1] == 0\n",
    "\n",
    "# should be symmetric\n",
    "# assert transpose(D) == D"
   ]
  },
  {
   "cell_type": "code",
   "execution_count": 34,
   "id": "346b50e4",
   "metadata": {},
   "outputs": [
    {
     "data": {
      "text/plain": [
       "array([[0.        , 2.44948974],\n",
       "       [2.44948974, 0.        ]])"
      ]
     },
     "execution_count": 34,
     "metadata": {},
     "output_type": "execute_result"
    }
   ],
   "source": [
    "D"
   ]
  },
  {
   "cell_type": "markdown",
   "id": "211444ab-c1e5-47cf-86d1-ca72d009b7d1",
   "metadata": {},
   "source": [
    "10 . Object Oriented Programming\n",
    " Define a class named `A` with a 'constructor' that takes a single parameter and stores it in an attribute named `value`. Add a `print_value` method to the class. Instantiate the class and call the `print_value` method."
   ]
  },
  {
   "cell_type": "code",
   "execution_count": 79,
   "id": "86213a2e-3268-45aa-90cc-151c8ef4417f",
   "metadata": {},
   "outputs": [
    {
     "name": "stdout",
     "output_type": "stream",
     "text": [
      "2\n"
     ]
    }
   ],
   "source": [
    "# YOUR CODE HERE\n",
    "class A:\n",
    "    def __init__(self, value):\n",
    "        self.value = value\n",
    "        \n",
    "    def print_value(self):\n",
    "        print(self.value)\n",
    "a = A(2)\n",
    "a.print_value()\n",
    "# raise NotImplementedError()"
   ]
  },
  {
   "cell_type": "code",
   "execution_count": 80,
   "id": "70769d9e-d21e-4685-8436-6f4de2b1b798",
   "metadata": {},
   "outputs": [
    {
     "name": "stdout",
     "output_type": "stream",
     "text": [
      "abc\n"
     ]
    }
   ],
   "source": [
    "a = A(\"abc\")\n",
    "a.print_value()"
   ]
  },
  {
   "cell_type": "markdown",
   "id": "b2c7b287-c0ec-4fba-ba52-69aedfb3f9e5",
   "metadata": {},
   "source": [
    "11.  Define a class named `B`, whose `__init__` takes two parameters and stores one in a public attribute and the other in a private attribute named `this_is_public` and `__this_is_private` respectively. Check the class's ``__dict__``  attribute and find out the mangled name of the private attribute."
   ]
  },
  {
   "cell_type": "code",
   "execution_count": 81,
   "id": "887717c5-b8e6-4e4f-a389-167cc3ad2f90",
   "metadata": {},
   "outputs": [
    {
     "name": "stdout",
     "output_type": "stream",
     "text": [
      "{'this_is_public': 2022, '_B__this_is_private': 2023}\n"
     ]
    }
   ],
   "source": [
    "# YOUR CODE HERE\n",
    "class B:\n",
    "    def __init__(self, this_is_public, __this_is_private):\n",
    "        self.this_is_public = this_is_public\n",
    "        self.__this_is_private = __this_is_private\n",
    "\n",
    "\n",
    "b = B(2022, 2023)\n",
    "print(b.__dict__)\n",
    "# raise NotImplementedError()"
   ]
  },
  {
   "cell_type": "code",
   "execution_count": 82,
   "id": "2890d450-5191-4dd0-91ef-4dc5f84b511c",
   "metadata": {},
   "outputs": [
    {
     "name": "stdout",
     "output_type": "stream",
     "text": [
      "Failed to access private attribute, this is good :)\n"
     ]
    }
   ],
   "source": [
    "b = B(1, 2)\n",
    "assert b.this_is_public == 1\n",
    "try:\n",
    "    b.__this_is_private\n",
    "    print(\"This should not happen.\")\n",
    "except AttributeError:\n",
    "    print(\"Failed to access private attribute, this is good :)\")"
   ]
  },
  {
   "cell_type": "markdown",
   "id": "4197c752-3a45-4e48-a3e3-2fd8a8172387",
   "metadata": {},
   "source": [
    "13 . Inheritance\n",
    "\n",
    "###### Guess the output without running the cell."
   ]
  },
  {
   "cell_type": "code",
   "execution_count": null,
   "id": "2a142442-f03b-438d-bca6-3a2c7c16ab7e",
   "metadata": {},
   "outputs": [],
   "source": [
    "class A(object): pass\n",
    "class B(A): pass\n",
    "class C(A): pass\n",
    "class D(B): pass\n",
    "\n",
    "a = A()\n",
    "b = B()\n",
    "c = C()\n",
    "d = D()\n",
    "\n",
    "print(isinstance(a, object))   #True\n",
    "print(isinstance(b, object))   #True\n",
    "print(isinstance(a, B))        #False\n",
    "print(isinstance(b, A))        #True\n",
    "print(isinstance(d, A))        #True"
   ]
  },
  {
   "cell_type": "code",
   "execution_count": null,
   "id": "c637dbb5-1350-4fbd-bf2c-94f4a60d6e5a",
   "metadata": {},
   "outputs": [],
   "source": [
    "print(issubclass(C, object))   #True\n",
    "print(issubclass(D, B))        #True\n",
    "print(issubclass(B, D))        #False\n",
    "print(issubclass(B, B))        #True"
   ]
  },
  {
   "cell_type": "markdown",
   "id": "2dc2067d-f15e-424a-b5f1-9782cb8c7ee5",
   "metadata": {},
   "source": [
    "#### Create a Cat, a Dog, a Fish and a Eagle class.\n",
    "\n",
    "The animals have the following attributes:\n",
    "\n",
    "1. cats, dogs and eagles can make a sound (this should be a make_sound function that prints the animals sound),\n",
    "2. all animals have an age and a number_of_legs attribute,\n",
    "3. cats and dogs have a fur_color attribute. They can be instantiated with a single color or a list or tuple of colors.\n",
    "\n",
    "Use inheritance and avoid repeating code. Use default values in the constructors."
   ]
  },
  {
   "cell_type": "code",
   "execution_count": 25,
   "id": "58b41d3c-bc66-4e6a-bcc9-345814da6dd5",
   "metadata": {},
   "outputs": [
    {
     "name": "stdout",
     "output_type": "stream",
     "text": [
      "white\n",
      "Meow\n",
      "['black', 'white']\n",
      "Woof\n",
      "Blub\n",
      "Screech\n"
     ]
    }
   ],
   "source": [
    "# YOUR CODE HERE\n",
    "class Animal:\n",
    "    def __init__(self, age=0, number_of_legs=4):\n",
    "        self.age = age\n",
    "        self.number_of_legs = number_of_legs\n",
    "\n",
    "    def make_sound(self):\n",
    "        print(\"I have a sound\")\n",
    "\n",
    "\n",
    "class Cat(Animal):\n",
    "    def __init__(self, age=0, number_of_legs=4, fur_color=\"white\"):\n",
    "        super().__init__(age, number_of_legs)\n",
    "        self.fur_color = fur_color\n",
    "\n",
    "    def make_sound(self):\n",
    "        print(\"Meow\")\n",
    "\n",
    "\n",
    "class Dog(Animal):\n",
    "    def __init__(self, age=0, number_of_legs=4, fur_color=\"white\"):\n",
    "        super().__init__(age, number_of_legs)\n",
    "        self.fur_color = fur_color\n",
    "\n",
    "    def make_sound(self):\n",
    "        print(\"Woof\")\n",
    "\n",
    "\n",
    "class Fish(Animal):\n",
    "    def __init__(self, age=0, number_of_legs=0):\n",
    "        super().__init__(age, number_of_legs)\n",
    "\n",
    "    def make_sound(self):\n",
    "        print(\"Blub\")\n",
    "\n",
    "\n",
    "class Eagle(Animal):\n",
    "    def __init__(self, age=0, number_of_legs=2):\n",
    "        super().__init__(age, number_of_legs)\n",
    "\n",
    "    def make_sound(self):\n",
    "        print(\"Screech\")\n",
    "\n",
    "\n",
    "cat = Cat(age=10, fur_color=\"white\")\n",
    "print(cat.fur_color)\n",
    "cat.make_sound()\n",
    "\n",
    "dog = Dog(age=5, fur_color=[\"black\", \"white\"])\n",
    "print(dog.fur_color)\n",
    "dog.make_sound()\n",
    "\n",
    "fish = Fish(age=1)\n",
    "fish.make_sound()\n",
    "\n",
    "eagle = Eagle(age=2)\n",
    "eagle.make_sound()\n",
    "\n",
    "# raise NotImplementedError()"
   ]
  },
  {
   "cell_type": "code",
   "execution_count": null,
   "id": "cf485478-8ccb-4ece-b411-25aeda370733",
   "metadata": {},
   "outputs": [],
   "source": [
    "try:\n",
    "    cat = Cat(\"Fluffy\", age=3, fur=\"white\")\n",
    "    dog = Dog(\"Cherry\", age=1, fur=(\"white\", \"brown\", \"black\"))\n",
    "    fish = Fish(\"King\")\n",
    "    eagle = Eagle(\"Bruce\", age=2)\n",
    "    animals = [cat, dog, fish, eagle]\n",
    "except Exception as e:\n",
    "    print(f'Could not initialize an animal: {e}')"
   ]
  },
  {
   "cell_type": "markdown",
   "id": "05cce854-4ec1-4f38-8c59-a6a9d024a147",
   "metadata": {},
   "source": [
    "#### Numpy basic exercises\n",
    "\n",
    "Use vectorization and avoid for loops in all exercises. Implement each exercise as a single function.\n",
    "\n",
    "##### Implement standardization for 2D arrays.\n",
    "\n",
    "Standardization is defined as:\n",
    "\n",
    "\\begin{equation*}\n",
    "X_{std} = \\frac{X - \\mu}{\\sigma},\n",
    "\\end{equation*}\n",
    "\n",
    "where $\\mu$ is the mean of each row and $\\rho$ is the standard deviation of each column."
   ]
  },
  {
   "cell_type": "code",
   "execution_count": 26,
   "id": "b0a6e8bb-88de-4598-a7d9-e667d944d41a",
   "metadata": {},
   "outputs": [
    {
     "data": {
      "text/plain": [
       "array([[-1.06066017,  1.06066017],\n",
       "       [-1.06066017,  1.06066017],\n",
       "       [-1.06066017,  1.06066017]])"
      ]
     },
     "execution_count": 26,
     "metadata": {},
     "output_type": "execute_result"
    }
   ],
   "source": [
    "def standardize(X):\n",
    "    # YOUR CODE HERE\n",
    "    import numpy as np\n",
    "\n",
    "def standardize(matrix):    \n",
    "    mean = np.mean(matrix, axis=1)\n",
    "    standard_deviation = np.std(matrix, axis=0)\n",
    "    standard_matrix = (matrix - mean[:, np.newaxis]) / standard_deviation\n",
    "    return standard_matrix\n",
    "\n",
    "X_std = standardize(np.array([[1, 2], [2, 3], [1, 2]]))\n",
    "X_std\n",
    "# raise NotImplementedError()\n"
   ]
  },
  {
   "cell_type": "markdown",
   "id": "1b248a73-d899-475b-bac0-a17382dfefab",
   "metadata": {},
   "source": [
    "#### Implement normalization for 2D arrays.\n",
    "\n",
    "Normalization is defined as:\n",
    "\n",
    "\\begin{equation*}\n",
    "X_{norm} = \\frac{X - X_{min}}{X_{max} - X_{min}}\n",
    "\\end{equation*}"
   ]
  },
  {
   "cell_type": "code",
   "execution_count": 53,
   "id": "95841093-e7e7-4f28-94b5-a53a554cddfe",
   "metadata": {},
   "outputs": [
    {
     "name": "stdout",
     "output_type": "stream",
     "text": [
      "[[ 0  1  2]\n",
      " [ 3  4 -5]]\n"
     ]
    },
    {
     "data": {
      "text/plain": [
       "array([[0., 0., 1.],\n",
       "       [1., 1., 0.]])"
      ]
     },
     "execution_count": 53,
     "metadata": {},
     "output_type": "execute_result"
    }
   ],
   "source": [
    "def normalize(matrix):\n",
    "    # YOUR CODE HERE\n",
    "    min_value = np.min(X, axis=0)\n",
    "    max_value = np.max(X, axis=0)\n",
    "    normalized_matrix = (matrix - min_value) / (max_value - min_value)\n",
    "\n",
    "    return normalized_matrix\n",
    "\n",
    "X = np.arange(6).reshape(2, 3)\n",
    "X[1, 2] = -5\n",
    "print(X)\n",
    "normalize(X)"
   ]
  },
  {
   "cell_type": "code",
   "execution_count": 54,
   "id": "75fe2509-9e4a-45aa-8f41-e2dd6290d81a",
   "metadata": {},
   "outputs": [],
   "source": [
    "answer = np.array(\n",
    "    [[0., 0., 1.],\n",
    "     [1., 1., 0.]]\n",
    ")\n",
    "X_norm = normalize(X)\n",
    "assert np.allclose(X_norm, answer)"
   ]
  },
  {
   "cell_type": "code",
   "execution_count": null,
   "id": "9006627d",
   "metadata": {},
   "outputs": [],
   "source": []
  }
 ],
 "metadata": {
  "kernelspec": {
   "display_name": "Python 3 (ipykernel)",
   "language": "python",
   "name": "python3"
  },
  "language_info": {
   "codemirror_mode": {
    "name": "ipython",
    "version": 3
   },
   "file_extension": ".py",
   "mimetype": "text/x-python",
   "name": "python",
   "nbconvert_exporter": "python",
   "pygments_lexer": "ipython3",
   "version": "3.9.13"
  }
 },
 "nbformat": 4,
 "nbformat_minor": 5
}
