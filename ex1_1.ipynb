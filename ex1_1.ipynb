{
 "cells": [
  {
   "cell_type": "markdown",
   "id": "0d6ee7e2",
   "metadata": {},
   "source": [
    "## Introduction to Python"
   ]
  },
  {
   "cell_type": "code",
   "execution_count": 2,
   "id": "4ea0edb8",
   "metadata": {},
   "outputs": [
    {
     "name": "stdout",
     "output_type": "stream",
     "text": [
      "Daphine Nalule\n"
     ]
    }
   ],
   "source": [
    "print('Daphine Nalule')"
   ]
  },
  {
   "cell_type": "code",
   "execution_count": 3,
   "id": "d874d273",
   "metadata": {},
   "outputs": [
    {
     "name": "stdout",
     "output_type": "stream",
     "text": [
      "Daphine Nalule\n"
     ]
    }
   ],
   "source": [
    "# This returns my name\n",
    "print('Daphine Nalule')"
   ]
  },
  {
   "cell_type": "code",
   "execution_count": 4,
   "id": "f71b6efa",
   "metadata": {},
   "outputs": [
    {
     "name": "stdout",
     "output_type": "stream",
     "text": [
      "Daphine Nalule\n"
     ]
    }
   ],
   "source": [
    "my_name = 'Daphine Nalule'\n",
    "print(my_name)"
   ]
  },
  {
   "cell_type": "code",
   "execution_count": 5,
   "id": "e7d88f29",
   "metadata": {},
   "outputs": [
    {
     "name": "stdout",
     "output_type": "stream",
     "text": [
      "This number is: 23\n"
     ]
    }
   ],
   "source": [
    "my_integer = '23'\n",
    "print('This number is: ' + my_integer)"
   ]
  },
  {
   "cell_type": "code",
   "execution_count": 6,
   "id": "1a3ae349",
   "metadata": {},
   "outputs": [
    {
     "name": "stdout",
     "output_type": "stream",
     "text": [
      "Enter your name: Tamale Godwin\n",
      "Tamale Godwin\n"
     ]
    }
   ],
   "source": [
    "name = input(\"Enter your name: \")\n",
    "print(name)"
   ]
  },
  {
   "cell_type": "code",
   "execution_count": 7,
   "id": "f795536e",
   "metadata": {},
   "outputs": [
    {
     "name": "stdout",
     "output_type": "stream",
     "text": [
      "Enter your value: 2\n",
      "4\n"
     ]
    }
   ],
   "source": [
    "val = int(input('Enter your value: '))\n",
    "print(val * 2)"
   ]
  },
  {
   "cell_type": "code",
   "execution_count": 32,
   "id": "e6890da3",
   "metadata": {},
   "outputs": [
    {
     "name": "stdout",
     "output_type": "stream",
     "text": [
      "Enter first value: 4\n",
      "Enter second value: 100\n",
      "400\n"
     ]
    }
   ],
   "source": [
    "y = int(input('Enter first value: '))\n",
    "z = int(input('Enter second value: '))\n",
    "yz = y * z\n",
    "print(yz)"
   ]
  },
  {
   "cell_type": "code",
   "execution_count": 9,
   "id": "f3dccf90",
   "metadata": {},
   "outputs": [
    {
     "name": "stdout",
     "output_type": "stream",
     "text": [
      "Enter value: 2\n"
     ]
    }
   ],
   "source": [
    "value = int(input('Enter value: '))\n",
    "if value >= 10:\n",
    "    print (\"The number is a multiple-digit number\")"
   ]
  },
  {
   "cell_type": "code",
   "execution_count": 11,
   "id": "e4701ad4",
   "metadata": {},
   "outputs": [
    {
     "name": "stdout",
     "output_type": "stream",
     "text": [
      "Enter value: 3\n",
      "It is single-digit\n",
      "3\n"
     ]
    }
   ],
   "source": [
    "Value = int(input('Enter value: '))\n",
    "if Value >= 10:\n",
    "    print (\"The number is a multiple-digit number\")\n",
    "else:\n",
    "    print (\"It is single-digit\")\n",
    "    print(Value)"
   ]
  },
  {
   "cell_type": "code",
   "execution_count": 28,
   "id": "c54d1ad7",
   "metadata": {},
   "outputs": [
    {
     "name": "stdout",
     "output_type": "stream",
     "text": [
      "Enter value: 45\n",
      "Final result: 5\n"
     ]
    }
   ],
   "source": [
    "x = int(input('Enter value: '))\n",
    "while x >= 10:\n",
    "    x -=10\n",
    "print(\"Final result:\", x)"
   ]
  }
 ],
 "metadata": {
  "kernelspec": {
   "display_name": "Python 3 (ipykernel)",
   "language": "python",
   "name": "python3"
  },
  "language_info": {
   "codemirror_mode": {
    "name": "ipython",
    "version": 3
   },
   "file_extension": ".py",
   "mimetype": "text/x-python",
   "name": "python",
   "nbconvert_exporter": "python",
   "pygments_lexer": "ipython3",
   "version": "3.9.13"
  }
 },
 "nbformat": 4,
 "nbformat_minor": 5
}
